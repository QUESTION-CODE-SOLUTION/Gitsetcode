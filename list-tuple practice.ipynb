{
 "cells": [
  {
   "cell_type": "code",
   "execution_count": 4,
   "id": "528f527e",
   "metadata": {},
   "outputs": [
    {
     "name": "stdout",
     "output_type": "stream",
     "text": [
      "['palak', 10, 5.26, 'dubey']\n",
      "<class 'list'>\n"
     ]
    }
   ],
   "source": [
    "list_1=['palak', 10, 5.26,'dubey']\n",
    "print(list_1)\n",
    "print(type(list_1))"
   ]
  },
  {
   "cell_type": "code",
   "execution_count": 5,
   "id": "90d1bc20",
   "metadata": {},
   "outputs": [
    {
     "name": "stdout",
     "output_type": "stream",
     "text": [
      "[[1, 2, 3, 4], [2, 3, 4, 5], [6, 7, 8, 9]]\n"
     ]
    }
   ],
   "source": [
    "matrix=[[1,2,3,4],[2,3,4,5,],[6,7,8,9]]\n",
    "print(matrix)\n"
   ]
  },
  {
   "cell_type": "code",
   "execution_count": 6,
   "id": "b02998b8",
   "metadata": {},
   "outputs": [
    {
     "name": "stdout",
     "output_type": "stream",
     "text": [
      "[[1, 2, 3, 4], [2, 3, 4, 5], [6, 7, 8, 9]]\n"
     ]
    }
   ],
   "source": [
    "matrix=[[1,2,3,4],[2,3,4,5,],[6,7,8,9]]\n",
    "print(matrix)\n"
   ]
  },
  {
   "cell_type": "code",
   "execution_count": 7,
   "id": "2560275d",
   "metadata": {},
   "outputs": [
    {
     "name": "stdout",
     "output_type": "stream",
     "text": [
      "[[1, 2, 3, 4], [2, 3, 4, 5], [6, 7, 8, 9]]\n",
      "\n",
      "\n",
      " 1 4 9\n",
      "[[1, 2, 3, 4], [2, 3, 4, 5], [6, 7, 8, 9]]\n",
      "\n",
      "\n",
      " 1 4 9\n",
      "[[1, 2, 3, 4], [2, 3, 4, 5], [6, 7, 8, 9]]\n",
      "\n",
      "\n",
      " 1 4 9\n"
     ]
    }
   ],
   "source": [
    "for row in matrix:\n",
    "    print(matrix)\n",
    "    print('\\n\\n',matrix[0][0], matrix[1][2], matrix[2][3])"
   ]
  },
  {
   "cell_type": "code",
   "execution_count": 8,
   "id": "74a519eb",
   "metadata": {},
   "outputs": [
    {
     "name": "stdout",
     "output_type": "stream",
     "text": [
      "('data', 223, 314, 'science')\n",
      "<class 'tuple'>\n",
      "223\n"
     ]
    }
   ],
   "source": [
    "#creating tuple\n",
    "tup=('data', 223, 314, 'science')\n",
    "print(tup)\n",
    "print(type(tup))\n",
    "print(tup[1])\n"
   ]
  },
  {
   "cell_type": "code",
   "execution_count": 9,
   "id": "54039a1b",
   "metadata": {},
   "outputs": [
    {
     "name": "stdout",
     "output_type": "stream",
     "text": [
      "{'ABC': [9877, 5467], 'PQR': 764}\n"
     ]
    }
   ],
   "source": [
    "phone_no={'ABC':[9877, 5467], 'PQR':764}\n",
    "print(phone_no)"
   ]
  },
  {
   "cell_type": "code",
   "execution_count": 10,
   "id": "42b3c9c9",
   "metadata": {},
   "outputs": [
    {
     "name": "stdout",
     "output_type": "stream",
     "text": [
      "{'ABC': [9877, 5467], 'PQR': 764}\n"
     ]
    }
   ],
   "source": [
    "phone_no={'ABC':[9877, 5467], 'PQR':764}\n",
    "print(phone_no)"
   ]
  },
  {
   "cell_type": "code",
   "execution_count": 13,
   "id": "8e963a06",
   "metadata": {},
   "outputs": [
    {
     "data": {
      "text/plain": [
       "[9877, 5467]"
      ]
     },
     "execution_count": 13,
     "metadata": {},
     "output_type": "execute_result"
    }
   ],
   "source": [
    "phone_no['ABC']\n"
   ]
  },
  {
   "cell_type": "code",
   "execution_count": null,
   "id": "afc3e74d",
   "metadata": {},
   "outputs": [],
   "source": []
  }
 ],
 "metadata": {
  "kernelspec": {
   "display_name": "Python 3 (ipykernel)",
   "language": "python",
   "name": "python3"
  },
  "language_info": {
   "codemirror_mode": {
    "name": "ipython",
    "version": 3
   },
   "file_extension": ".py",
   "mimetype": "text/x-python",
   "name": "python",
   "nbconvert_exporter": "python",
   "pygments_lexer": "ipython3",
   "version": "3.11.4"
  }
 },
 "nbformat": 4,
 "nbformat_minor": 5
}
